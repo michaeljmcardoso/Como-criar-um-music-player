{
  "nbformat": 4,
  "nbformat_minor": 0,
  "metadata": {
    "colab": {
      "provenance": [],
      "mount_file_id": "1t3BFBZ452ntdLotiN9fbioA9PZGy-WhN",
      "authorship_tag": "ABX9TyO5Dv+kDc3V+PVyk5sTBCQj",
      "include_colab_link": true
    },
    "kernelspec": {
      "name": "python3",
      "display_name": "Python 3"
    },
    "language_info": {
      "name": "python"
    }
  },
  "cells": [
    {
      "cell_type": "markdown",
      "metadata": {
        "id": "view-in-github",
        "colab_type": "text"
      },
      "source": [
        "<a href=\"https://colab.research.google.com/github/michaeljmcardoso/Music_Player/blob/main/musicplayer.ipynb\" target=\"_parent\"><img src=\"https://colab.research.google.com/assets/colab-badge.svg\" alt=\"Open In Colab\"/></a>"
      ]
    },
    {
      "cell_type": "markdown",
      "source": [
        "# **Tocando um MP3 com Python**\n",
        "\n",
        "by Michael J M Cardoso\n",
        "\n",
        "---\n",
        "\n",
        "<center><img width=\"40%\" src=\"https://static.vecteezy.com/ti/vetor-gratis/p1/4586975-icon-media-music-player-in-vector-modern-playback-of-music-application-multimedia-navigation-on-smartphone-device-vetor.jpg\n",
        "\"></center>\n",
        "\n",
        "Neste projeto vamos tocar uma música MP3 diretamente do nosso código Python. Nosso obejtivo é escrever um programa em Python que abra e reproduza o áudio de um arquivo MP3. Aprenderemos como criar um *music player* (tocador de músicas) com algumas linhas de código. Este projeto é fruto de um desafio do curso de Python (Mundo 1) da plataforma **Curso em Video**.\n",
        "\n",
        "Existem várias bibliotecas ou módulos para tocar músicas, porém neste pequeno projeto vamos utilizar um módulo que é bastante conhecido pela comunidade de programadores, o `Pygame`, que é muito utilizado para criação de jogos. Como jogos geralmete tem música, esse módulo se encaixa perfeitamete em nosso objetivo.\n",
        "\n",
        "\n",
        "<center><img width=\"25%\" src=\"https://upload.wikimedia.org/wikipedia/commons/b/be/Pygame_logo.svg\n",
        "\"></center>\n",
        "\n",
        "[Pygame](https://pypi.org/project/pygame/) é uma biblioteca multiplataforma gratuita e de código aberto para o desenvolvimento de aplicativos multimídia, como videogames, usando Python. Ele usa a biblioteca Simple DirectMedia Layer e várias outras bibliotecas populares para abstrair as funções mais comuns, tornando a escrita desses programas uma tarefa mais intuitiva.\n",
        "\n",
        "Se quiser conhecer mais sobre `Pygame`, ter acesso a tutoriais e ver a documentação de referência completa para toda a biblioteca clique [aqui](https://www.pygame.org/docs/)."
      ],
      "metadata": {
        "id": "CJcvfTmJXZuE"
      }
    },
    {
      "cell_type": "markdown",
      "source": [
        "## **Instalando o Pygame**\n",
        "\n",
        "Como não estamos falando de Python nativo, o primeiro passo é a instalação do pacote necessário por meio do comando `!pip install pygame`, porém dependendo do seu ambiente de desenvolvimento esse comando pode mudar um pouco. Certamente, você também poderá instalá-lo pela guia *extensões* direto na interface do seu ambiente do seu trabalho. Ou mesmo pelo Terminal ou Prompt de Comando, a depender do seu sistema operacional.\n"
      ],
      "metadata": {
        "id": "ZmtJ4qoSY0_b"
      }
    },
    {
      "cell_type": "code",
      "source": [
        "!pip install pygame"
      ],
      "metadata": {
        "colab": {
          "base_uri": "https://localhost:8080/"
        },
        "id": "WbMbv4R6c3Lj",
        "outputId": "4f80f0f2-48e9-45ee-f9e0-95d55a3c583f"
      },
      "execution_count": 26,
      "outputs": [
        {
          "output_type": "stream",
          "name": "stdout",
          "text": [
            "Looking in indexes: https://pypi.org/simple, https://us-python.pkg.dev/colab-wheels/public/simple/\n",
            "Requirement already satisfied: pygame in /usr/local/lib/python3.8/dist-packages (2.1.2)\n"
          ]
        }
      ]
    },
    {
      "cell_type": "markdown",
      "source": [
        "## **Importando o modulo Pygame**\n",
        "\n",
        "Pronto! Conforme a saída acima vemos que a instalação foi um sucesso.\n",
        "\n",
        "Agora, após a instalação do pacote vamos importar a biblioteca necessária. Como estamos falando de uma biblioteca e não do Python nativo, é necessário primeiro importá-la. O que pode ser feito com o comando: `import`. Essse comando é utilizado sempre que precisamos importar uma nova biblioteca."
      ],
      "metadata": {
        "id": "9OxJUudedAug"
      }
    },
    {
      "cell_type": "markdown",
      "source": [
        "## **Iniciando Pygame**\n",
        "\n",
        "Próximo passo é inicar o Pygame, que podemos fazer utilizando o comando `pygame.init()`, para inicializar todos os módulos Pygame importados. Contudo, Pygame tem muitas funcionalidades utilizadas para criar jogos como, carregar imagem, som, vídeos, controlar eventos etc. Como vamos usar apenas o `mixer` do Pygame, opcionalmente utilizaremos o comando `pygame.mixer.init()`."
      ],
      "metadata": {
        "id": "AIfUU3crg4P0"
      }
    },
    {
      "cell_type": "markdown",
      "source": [
        "## **Carregando arquivo**\n",
        "\n",
        "Com o módulo inicializado vamos carregar nosso arquivo de música para que esteja pronto para reprodução, fazemos isso por meio do comando `pygame.mixer.music.load('sua_musica.mp3')`, substituindo 'sua_musica.mp3' pelo nome do arquivo que desejamos carregar.\n",
        "\n",
        "Um detalhe importante: para que não haja erro no carregamento do arquivo de áudio, ele deve ser salvo no mesmo diretório (pasta) onde se encontra salvo o *script.py* de nosso music player."
      ],
      "metadata": {
        "id": "j3CeHQd8Yi1k"
      }
    },
    {
      "cell_type": "markdown",
      "source": [
        "## **Reprodução da música**\n",
        "\n",
        "Agora que carregamos nosso arquivo mp3, chegou o momento de colocarmos a música pra tocar. Para tanto, vamos usar o comando `pygame.mixer.music.play()`.\n",
        "Para finalizar vamos implementar um loop (while) para verificar se o canal de música está em uso, caso não ele sai do loop e encerra. E para sair do programa, rodamos a última linha do código: `pygame.quit()`."
      ],
      "metadata": {
        "id": "xYhFyWdAYnUd"
      }
    },
    {
      "cell_type": "markdown",
      "source": [
        "## **Script**\n",
        "\n",
        "Vejamos agora, como ficou o *script* completo de nosso *music player*."
      ],
      "metadata": {
        "id": "Pg1uZ9vpiD1b"
      }
    },
    {
      "cell_type": "code",
      "execution_count": null,
      "metadata": {
        "id": "Tzg3AbVRXOoE"
      },
      "outputs": [],
      "source": [
        "# Importando a biblioteca necessária pygame\n",
        "import pygame\n",
        "\n",
        "# Inicializar todos os módulos pygame importados\n",
        "# pygame.init()\n",
        "\n",
        "# Inicializando o mixer PyGame\n",
        "pygame.mixer.init()\n",
        "\n",
        "# Carregar um arquivo de música para reprodução\n",
        "pygame.mixer.music.load('sua_musica.mp3')\n",
        "\n",
        "# Iniciar a reprodução do fluxo de música\n",
        "pygame.mixer.music.play()\n",
        "\n",
        "# Esse loop verifica se o canal de música está em uso,\n",
        "# quando não mais em uso, ele sai do loop\n",
        "while pygame.mixer.music.get_busy():\n",
        "    continue # usado para voltar ao início do loop\n",
        "\n",
        "# sair do programa\n",
        "pygame.quit()"
      ]
    },
    {
      "cell_type": "markdown",
      "source": [
        "# **Conclusão**\n",
        "\n",
        "Desenvolvemos com Python uma aplicação simples para tocar músicas, utilizando um pouco da biblioteca Pygame. Contudo, existem muitas possibilidades. E se você gostou, pode melhorar o *script* acrescentando outras funcionalidades ao projeto, como uma interface gráfica por exemplo, controles de volume, um temporizador da música etc. Para aguçar a curiosidade e aprofundar seus conhecimentos, visite o site com a documentação oficial clicando [aqui](https://www.pygame.org/docs/).\n"
      ],
      "metadata": {
        "id": "Tf4rsFLz5_ad"
      }
    }
  ]
}